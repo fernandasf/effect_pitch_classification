{
 "cells": [
  {
   "cell_type": "code",
   "execution_count": 19,
   "id": "24c29ee6-a65e-4d7e-8cee-e648689928b0",
   "metadata": {},
   "outputs": [],
   "source": [
    "import librosa\n",
    "import IPython.display as ipd\n",
    "import glob\n",
    "import matplotlib.pyplot as plt\n",
    "import numpy as np\n",
    "from scipy.io import wavfile\n",
    "import os\n",
    "from tqdm import tqdm"
   ]
  },
  {
   "cell_type": "code",
   "execution_count": 21,
   "id": "f2650d11-807f-466e-822c-c0e9a4297492",
   "metadata": {
    "jupyter": {
     "source_hidden": true
    }
   },
   "outputs": [],
   "source": [
    "def float2pcm(sig, dtype='int16'):\n",
    "    \"\"\"Convert floating point signal with a range from -1 to 1 to PCM.\n",
    "    Any signal values outside the interval [-1.0, 1.0) are clipped.\n",
    "    No dithering is used.\n",
    "    Note that there are different possibilities for scaling floating\n",
    "    point numbers to PCM numbers, this function implements just one of\n",
    "    them.  For an overview of alternatives see\n",
    "    http://blog.bjornroche.com/2009/12/int-float-int-its-jungle-out-there.html\n",
    "    reference: https://gist.github.com/HudsonHuang/fbdf8e9af7993fe2a91620d3fb86a182\n",
    "    Parameters\n",
    "    ----------\n",
    "    sig : array_like\n",
    "        Input array, must have floating point type.\n",
    "    dtype : data type, optional\n",
    "        Desired (integer) data type.\n",
    "    Returns\n",
    "    -------\n",
    "    numpy.ndarray\n",
    "        Integer data, scaled and clipped to the range of the given\n",
    "        *dtype*.\n",
    "    See Also\n",
    "    --------\n",
    "    pcm2float, dtype\n",
    "    \"\"\"\n",
    "    sig = np.asarray(sig)\n",
    "    if sig.dtype.kind != 'f':\n",
    "        raise TypeError(\"'sig' must be a float array\")\n",
    "    dtype = np.dtype(dtype)\n",
    "    if dtype.kind not in 'iu':\n",
    "        raise TypeError(\"'dtype' must be an integer type\")\n",
    "\n",
    "    i = np.iinfo(dtype)\n",
    "    abs_max = 2 ** (i.bits - 1)\n",
    "    offset = i.min + abs_max\n",
    "    return (sig * abs_max + offset).clip(i.min, i.max).astype(dtype)"
   ]
  },
  {
   "cell_type": "code",
   "execution_count": 5,
   "id": "f3fa6709-2263-4678-ab4b-ccdb4dbb7d2c",
   "metadata": {},
   "outputs": [
    {
     "data": {
      "text/plain": [
       "4000"
      ]
     },
     "execution_count": 5,
     "metadata": {},
     "output_type": "execute_result"
    }
   ],
   "source": [
    "data = sorted(glob.glob(\"/home/jovyan/work/OneDrive/Documentos/Doutorado/dataset/GPS_cmd_16k/*.wav\"))\n",
    "len(data)"
   ]
  },
  {
   "cell_type": "code",
   "execution_count": 6,
   "id": "a561c87c-6661-4296-9307-8ce8aaefb628",
   "metadata": {},
   "outputs": [
    {
     "data": {
      "text/plain": [
       "['/home/jovyan/work/OneDrive/Documentos/Doutorado/dataset/GPS_cmd_16k/academia1.wav',\n",
       " '/home/jovyan/work/OneDrive/Documentos/Doutorado/dataset/GPS_cmd_16k/academia10.wav',\n",
       " '/home/jovyan/work/OneDrive/Documentos/Doutorado/dataset/GPS_cmd_16k/academia100.wav',\n",
       " '/home/jovyan/work/OneDrive/Documentos/Doutorado/dataset/GPS_cmd_16k/academia101.wav',\n",
       " '/home/jovyan/work/OneDrive/Documentos/Doutorado/dataset/GPS_cmd_16k/academia102.wav',\n",
       " '/home/jovyan/work/OneDrive/Documentos/Doutorado/dataset/GPS_cmd_16k/academia103.wav',\n",
       " '/home/jovyan/work/OneDrive/Documentos/Doutorado/dataset/GPS_cmd_16k/academia104.wav',\n",
       " '/home/jovyan/work/OneDrive/Documentos/Doutorado/dataset/GPS_cmd_16k/academia105.wav',\n",
       " '/home/jovyan/work/OneDrive/Documentos/Doutorado/dataset/GPS_cmd_16k/academia106.wav',\n",
       " '/home/jovyan/work/OneDrive/Documentos/Doutorado/dataset/GPS_cmd_16k/academia107.wav']"
      ]
     },
     "execution_count": 6,
     "metadata": {},
     "output_type": "execute_result"
    }
   ],
   "source": [
    "data[0:10]"
   ]
  },
  {
   "cell_type": "code",
   "execution_count": 14,
   "id": "34f4747c-4a00-4f6c-bb9f-ada4419c153b",
   "metadata": {},
   "outputs": [
    {
     "data": {
      "text/plain": [
       "'/home/jovyan/work/OneDrive/Documentos/Doutorado/dataset/GPS_cmd_16k'"
      ]
     },
     "execution_count": 14,
     "metadata": {},
     "output_type": "execute_result"
    }
   ],
   "source": [
    "folder = os.path.dirname(data[0])\n",
    "folder"
   ]
  },
  {
   "cell_type": "code",
   "execution_count": 71,
   "id": "edf82681-effe-42ec-b69b-5d76aa9a0b30",
   "metadata": {},
   "outputs": [],
   "source": [
    "out_folder = \"/home/jovyan/work/OneDrive/Documentos/Doutorado/dataset/GPS_cmd_16k_renamed\"\n",
    "os.makedirs(out_folder, exist_ok=True)"
   ]
  },
  {
   "cell_type": "code",
   "execution_count": 69,
   "id": "e3931d26-1f20-4605-9681-b81614868d5d",
   "metadata": {},
   "outputs": [],
   "source": [
    "def rename_files(intervals, user):\n",
    "    places = [\"academia\", \"aeroporto\", \"casa\", \"cinema\", \"escola\", \"faculdade\", \"farmacia\", \"hospital\", \"mercado\", \"trabalho\"]\n",
    "    for place in tqdm(places):\n",
    "        for num_inter, inter in enumerate(intervals, start=1):\n",
    "            #input()\n",
    "            init = inter[0]\n",
    "            end = inter[1]\n",
    "            idx = 1\n",
    "            for i in range(init, end+1):\n",
    "                #print(i)\n",
    "                old_name = f\"{folder}/{place}{i}.wav\"\n",
    "                #print(old_name)\n",
    "                out_name = old_name.replace(f\"{place}{i}\", f\"{place}_{user[num_inter-1]}_{idx:03}\").replace(\"GPS_cmd_16k\", \"GPS_cmd_16k_renamed\")\n",
    "                #print(out_name)\n",
    "                idx += 1\n",
    "                \n",
    "                audio = librosa.load(old_name, sr=16000)[0]\n",
    "                audio_int16 = float2pcm(audio, dtype='int16')\n",
    "                wavfile.write(out_name, 16000, audio_int16)"
   ]
  },
  {
   "cell_type": "code",
   "execution_count": 66,
   "id": "f301a3fc-db6a-4d96-a184-4a07f8c0d0e0",
   "metadata": {},
   "outputs": [],
   "source": [
    "start_i = 1\n",
    "start_end = 10\n",
    "intervals_1 = []\n",
    "for i in range(0, 100, 10):\n",
    "    init = (start_i + i)\n",
    "    end = (start_end + i)\n",
    "    intervals_1.append((init, end))"
   ]
  },
  {
   "cell_type": "code",
   "execution_count": 67,
   "id": "b250e905-c141-4ec3-a411-a91302afac80",
   "metadata": {},
   "outputs": [
    {
     "data": {
      "text/plain": [
       "[(1, 10),\n",
       " (11, 20),\n",
       " (21, 30),\n",
       " (31, 40),\n",
       " (41, 50),\n",
       " (51, 60),\n",
       " (61, 70),\n",
       " (71, 80),\n",
       " (81, 90),\n",
       " (91, 100)]"
      ]
     },
     "execution_count": 67,
     "metadata": {},
     "output_type": "execute_result"
    }
   ],
   "source": [
    "intervals_1"
   ]
  },
  {
   "cell_type": "code",
   "execution_count": 72,
   "id": "dff2aa6c-a383-4d2f-9dcb-38968295652b",
   "metadata": {},
   "outputs": [
    {
     "name": "stderr",
     "output_type": "stream",
     "text": [
      "100%|███████████████████████████████████████████████████████████████████████████████████████████████████████████████████████| 10/10 [00:40<00:00,  4.10s/it]\n"
     ]
    }
   ],
   "source": [
    "user = [\"F001\", \"F002\", \"F003\", \"F004\", \"F005\", \"F006\", \"F007\", \"F008\", \"F009\", \"F010\"]\n",
    "rename_files(intervals_1, user)\n",
    "# places = [\"academia\", \"aeroporto\", \"casa\", \"cinema\", \"escola\", \"faculdade\", \"farmacia\", \"hospital\", \"mercado\", \"trabalho\"]\n",
    "# for place in tqdm(places):\n",
    "#     for num_inter, inter in enumerate(intervals, start=1):\n",
    "#         #input()\n",
    "#         init = inter[0]\n",
    "#         end = inter[1]\n",
    "#         idx = 1\n",
    "#         for i in range(init, end+1):\n",
    "#             #print(i)\n",
    "#             old_name = f\"{folder}/{place}{i}.wav\"\n",
    "#             #print(old_name)\n",
    "#             out_name = old_name.replace(f\"{place}{i}\", f\"{place}_{user}{num_inter:03}_{idx:03}\").replace(\"GPS_cmd_16k\", \"GPS_cmd_16k_renamed\")\n",
    "#             #print(out_name)\n",
    "#             idx += 1\n",
    "            \n",
    "#             audio = librosa.load(old_name, sr=16000)[0]\n",
    "#             audio_int16 = float2pcm(audio, dtype='int16')\n",
    "#             wavfile.write(out_name, 16000, audio_int16)"
   ]
  },
  {
   "cell_type": "code",
   "execution_count": 51,
   "id": "7c13b72b-9069-4c21-8056-2a8b3a9ef0fc",
   "metadata": {},
   "outputs": [],
   "source": [
    "start_i = 1\n",
    "start_end = 10\n",
    "intervals_2 = []\n",
    "for i in range(100, 200, 10):\n",
    "    init = (start_i + i)\n",
    "    end = (start_end + i)\n",
    "    intervals_2.append((init, end))"
   ]
  },
  {
   "cell_type": "code",
   "execution_count": 52,
   "id": "61e7a290-eea4-4932-a1d8-9389cb07a26a",
   "metadata": {},
   "outputs": [
    {
     "data": {
      "text/plain": [
       "[(101, 110),\n",
       " (111, 120),\n",
       " (121, 130),\n",
       " (131, 140),\n",
       " (141, 150),\n",
       " (151, 160),\n",
       " (161, 170),\n",
       " (171, 180),\n",
       " (181, 190),\n",
       " (191, 200)]"
      ]
     },
     "execution_count": 52,
     "metadata": {},
     "output_type": "execute_result"
    }
   ],
   "source": [
    "intervals_2"
   ]
  },
  {
   "cell_type": "code",
   "execution_count": 73,
   "id": "61357310-1c7c-48ff-90b7-094ba867c706",
   "metadata": {},
   "outputs": [
    {
     "name": "stderr",
     "output_type": "stream",
     "text": [
      "100%|███████████████████████████████████████████████████████████████████████████████████████████████████████████████████████| 10/10 [00:40<00:00,  4.06s/it]\n"
     ]
    }
   ],
   "source": [
    "user = [\"M001\", \"M002\", \"M003\", \"M004\", \"M005\", \"M006\", \"M007\", \"M008\", \"M009\", \"M010\"]\n",
    "rename_files(intervals_2, user)"
   ]
  },
  {
   "cell_type": "code",
   "execution_count": 55,
   "id": "3354d609-4393-4e81-a56d-79287ea937c5",
   "metadata": {},
   "outputs": [],
   "source": [
    "start_i = 1\n",
    "start_end = 10\n",
    "intervals_3 = []\n",
    "for i in range(200, 300, 10):\n",
    "    init = (start_i + i)\n",
    "    end = (start_end + i)\n",
    "    intervals_3.append((init, end))"
   ]
  },
  {
   "cell_type": "code",
   "execution_count": 56,
   "id": "d2741218-d230-4856-b977-02ede40ad1d3",
   "metadata": {
    "scrolled": true
   },
   "outputs": [
    {
     "data": {
      "text/plain": [
       "[(201, 210),\n",
       " (211, 220),\n",
       " (221, 230),\n",
       " (231, 240),\n",
       " (241, 250),\n",
       " (251, 260),\n",
       " (261, 270),\n",
       " (271, 280),\n",
       " (281, 290),\n",
       " (291, 300)]"
      ]
     },
     "execution_count": 56,
     "metadata": {},
     "output_type": "execute_result"
    }
   ],
   "source": [
    "intervals_3"
   ]
  },
  {
   "cell_type": "code",
   "execution_count": 74,
   "id": "fce2b3b4-ee36-485a-9699-60f488d9dac2",
   "metadata": {},
   "outputs": [
    {
     "name": "stderr",
     "output_type": "stream",
     "text": [
      "100%|███████████████████████████████████████████████████████████████████████████████████████████████████████████████████████| 10/10 [00:42<00:00,  4.22s/it]\n"
     ]
    }
   ],
   "source": [
    "user = [\"F011\", \"F012\", \"F013\", \"F014\", \"F015\", \"F016\", \"F017\", \"F018\", \"F019\", \"F020\"]\n",
    "rename_files(intervals_3, user)"
   ]
  },
  {
   "cell_type": "code",
   "execution_count": 58,
   "id": "04a36b0d-b7b4-478f-80f0-96e4e5e73ce5",
   "metadata": {},
   "outputs": [],
   "source": [
    "start_i = 1\n",
    "start_end = 10\n",
    "intervals_4 = []\n",
    "for i in range(300, 400, 10):\n",
    "    init = (start_i + i)\n",
    "    end = (start_end + i)\n",
    "    intervals_4.append((init, end))"
   ]
  },
  {
   "cell_type": "code",
   "execution_count": 59,
   "id": "8c1da57d-9817-4696-845f-b4f650456baa",
   "metadata": {},
   "outputs": [
    {
     "data": {
      "text/plain": [
       "[(301, 310),\n",
       " (311, 320),\n",
       " (321, 330),\n",
       " (331, 340),\n",
       " (341, 350),\n",
       " (351, 360),\n",
       " (361, 370),\n",
       " (371, 380),\n",
       " (381, 390),\n",
       " (391, 400)]"
      ]
     },
     "execution_count": 59,
     "metadata": {},
     "output_type": "execute_result"
    }
   ],
   "source": [
    "intervals_4"
   ]
  },
  {
   "cell_type": "code",
   "execution_count": 75,
   "id": "34d144da-80bd-4837-b4c4-3817f8770ee1",
   "metadata": {},
   "outputs": [
    {
     "name": "stderr",
     "output_type": "stream",
     "text": [
      "100%|███████████████████████████████████████████████████████████████████████████████████████████████████████████████████████| 10/10 [00:43<00:00,  4.36s/it]\n"
     ]
    }
   ],
   "source": [
    "user = [\"M011\", \"M012\", \"M013\", \"M014\", \"M015\", \"M016\", \"M017\", \"M018\", \"M019\", \"M020\"]\n",
    "rename_files(intervals_4, user)"
   ]
  },
  {
   "cell_type": "code",
   "execution_count": null,
   "id": "4b590135-3fea-46ca-a102-bd7f8f9898f9",
   "metadata": {},
   "outputs": [],
   "source": []
  }
 ],
 "metadata": {
  "kernelspec": {
   "display_name": "Python 3 (ipykernel)",
   "language": "python",
   "name": "python3"
  },
  "language_info": {
   "codemirror_mode": {
    "name": "ipython",
    "version": 3
   },
   "file_extension": ".py",
   "mimetype": "text/x-python",
   "name": "python",
   "nbconvert_exporter": "python",
   "pygments_lexer": "ipython3",
   "version": "3.11.6"
  }
 },
 "nbformat": 4,
 "nbformat_minor": 5
}
